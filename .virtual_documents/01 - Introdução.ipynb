





print(2 + 2)
print(2 * 2)
print(11 / 2) #Resultado de um float
print(11 // 2) #Resultado de numero inteiro
print(10 - 5)
print(2 ** 3) #Potencia
print(2 % 2) #Resto da divisão





palavra = "BigData"
variavel = 2
print(palavra)
print(variavel)


palavra = 'BigData'
palavra


palavra = 'BigData'
palavra = 'DataScience'
print(palavra)


soma = 3 + 3
print(soma)


a = 'Big'
b = 'Data'
print(a + ' ' + b)


print("G" + "o" * 10 + "l!")





materia1, materia2, materia3 = 'Big Data','Data Science','Machine Learning'


print(materia1,materia2,materia3)


a = b = c = 'Universidade dos Dados'
print(a,b,c)





#or - Operador de OU. Basta que apenas uma das opções seja verdadeira para que toda a sentença seja verdadeira. 
#Sempre retornam True ou False (Boolean)



print(10 > 20 or 20 == 20)



#and - Todas as operações da sentença precisam ser verdadeiras para reproduzir um resultado verdadeiro


print(10 > 20 and 20 == 20)


#not - Inverte um resultado booleano


print(not 2 == 2)
print(not 2 != 2)





#verificando o tipo de uma variavel

var = 'Unidados'
var2 = 6566
var3 = 87.98
var4 = True




#type(var) -> retornar o tipo


print(type(var))
print(type(var2))
print(type(var3))
print(type(var4))





string = '100'
print(type(string))
numero = int(string)
print(type(numero))


numero = float(numero)
print(type(numero))
flutuante = type(numero)
print(numero)


letra = bool('True')
print(letra)
print(type(letra))


palavra = str(True)
type(palavra)



