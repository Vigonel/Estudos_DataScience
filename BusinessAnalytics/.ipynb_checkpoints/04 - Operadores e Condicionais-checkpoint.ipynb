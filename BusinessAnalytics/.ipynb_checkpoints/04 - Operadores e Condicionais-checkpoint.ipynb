{
 "cells": [
  {
   "cell_type": "markdown",
   "id": "1c33918f-4ceb-49b5-b0c7-fd01c58ee8a1",
   "metadata": {},
   "source": [
    "### Operadores Lógicos\n",
    "\n",
    "Igualdade: ==\n",
    "\n",
    "Diferença: !=\n",
    "\n",
    "Maior Que: >\n",
    "\n",
    "Menor Que: <\n",
    "               \n",
    "Maior ou Igual: >=\n",
    "\n",
    "Menor ou Igual: <=\n",
    "\n",
    "Resto da Divisão: %"
   ]
  },
  {
   "cell_type": "code",
   "execution_count": 2,
   "id": "f4beaa13-a307-40ea-8e83-4ef1ea973b9c",
   "metadata": {},
   "outputs": [
    {
     "data": {
      "text/plain": [
       "False"
      ]
     },
     "execution_count": 2,
     "metadata": {},
     "output_type": "execute_result"
    }
   ],
   "source": [
    "5<3"
   ]
  },
  {
   "cell_type": "code",
   "execution_count": 3,
   "id": "8985f71e-ce7a-4905-b017-4d3917de0b02",
   "metadata": {},
   "outputs": [
    {
     "data": {
      "text/plain": [
       "True"
      ]
     },
     "execution_count": 3,
     "metadata": {},
     "output_type": "execute_result"
    }
   ],
   "source": [
    "5>3"
   ]
  },
  {
   "cell_type": "code",
   "execution_count": 5,
   "id": "3735d190-976e-4986-a47f-aa259599a453",
   "metadata": {},
   "outputs": [
    {
     "data": {
      "text/plain": [
       "False"
      ]
     },
     "execution_count": 5,
     "metadata": {},
     "output_type": "execute_result"
    }
   ],
   "source": [
    "5==3"
   ]
  },
  {
   "cell_type": "code",
   "execution_count": 6,
   "id": "162ab51a-3475-4ae2-8a3b-d31db19eb441",
   "metadata": {},
   "outputs": [
    {
     "data": {
      "text/plain": [
       "4"
      ]
     },
     "execution_count": 6,
     "metadata": {},
     "output_type": "execute_result"
    }
   ],
   "source": [
    "9 % 5 #Resto da Divisão"
   ]
  },
  {
   "cell_type": "markdown",
   "id": "c49fdb5b-8263-4835-a2d1-a7a675db2522",
   "metadata": {},
   "source": [
    "### Condicionais\n",
    "\n",
    "if\n",
    "\n",
    "else\n",
    "\n",
    "elif"
   ]
  },
  {
   "cell_type": "code",
   "execution_count": 19,
   "id": "23753caa-62cf-4135-acd4-11f8c37a2844",
   "metadata": {},
   "outputs": [],
   "source": [
    "idade = 25"
   ]
  },
  {
   "cell_type": "code",
   "execution_count": 12,
   "id": "3b149d21-bf78-4822-b9b7-e6ecf8233d8b",
   "metadata": {},
   "outputs": [
    {
     "name": "stdout",
     "output_type": "stream",
     "text": [
      "Falso\n"
     ]
    }
   ],
   "source": [
    "if idade == 28:\n",
    "    print(\"Idade é 28\")\n",
    "else:\n",
    "    print(\"Falso\")"
   ]
  },
  {
   "cell_type": "code",
   "execution_count": 13,
   "id": "bf901e30-d8ce-4836-a419-cdba9d63a1ff",
   "metadata": {},
   "outputs": [
    {
     "data": {
      "text/plain": [
       "'Falso'"
      ]
     },
     "execution_count": 13,
     "metadata": {},
     "output_type": "execute_result"
    }
   ],
   "source": [
    "\"Verdadeiro\" if idade == 28 else \"Falso\" #Condicional Ternaria"
   ]
  },
  {
   "cell_type": "code",
   "execution_count": 17,
   "id": "0cd3d9bf-6de8-4824-b747-08fde05a9665",
   "metadata": {},
   "outputs": [
    {
     "name": "stdout",
     "output_type": "stream",
     "text": [
      "par\n"
     ]
    }
   ],
   "source": [
    "if idade % 2 == 0 :\n",
    "    print('par')\n",
    "else:\n",
    "    print('impar')"
   ]
  },
  {
   "cell_type": "code",
   "execution_count": 20,
   "id": "68f589ec-d704-4507-870f-54060f46da67",
   "metadata": {},
   "outputs": [
    {
     "data": {
      "text/plain": [
       "'impar'"
      ]
     },
     "execution_count": 20,
     "metadata": {},
     "output_type": "execute_result"
    }
   ],
   "source": [
    "'par' if idade % 2 == 0 else 'impar'"
   ]
  },
  {
   "cell_type": "code",
   "execution_count": null,
   "id": "690556fa-6876-4344-b4e7-6fb500469605",
   "metadata": {},
   "outputs": [],
   "source": []
  }
 ],
 "metadata": {
  "kernelspec": {
   "display_name": "Python 3 (ipykernel)",
   "language": "python",
   "name": "python3"
  },
  "language_info": {
   "codemirror_mode": {
    "name": "ipython",
    "version": 3
   },
   "file_extension": ".py",
   "mimetype": "text/x-python",
   "name": "python",
   "nbconvert_exporter": "python",
   "pygments_lexer": "ipython3",
   "version": "3.12.7"
  }
 },
 "nbformat": 4,
 "nbformat_minor": 5
}
