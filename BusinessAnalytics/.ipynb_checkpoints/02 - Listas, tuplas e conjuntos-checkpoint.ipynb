{
 "cells": [
  {
   "cell_type": "code",
   "execution_count": 2,
   "id": "64aabe04-399c-43ec-83a6-f1648deb7383",
   "metadata": {},
   "outputs": [
    {
     "name": "stdout",
     "output_type": "stream",
     "text": [
      "Hello World\n"
     ]
    }
   ],
   "source": [
    "print('Hello World')"
   ]
  },
  {
   "cell_type": "raw",
   "id": "86c1584d-6b4e-451b-93f5-5bfbd7bcf24b",
   "metadata": {},
   "source": [
    "Listas\n",
    "Tuplas\n",
    "Sets\n",
    "Dicionários"
   ]
  },
  {
   "cell_type": "markdown",
   "id": "cc7934ae-d8c1-4615-9bde-da19d9f2257f",
   "metadata": {},
   "source": [
    "### Listas"
   ]
  },
  {
   "cell_type": "code",
   "execution_count": 6,
   "id": "d9178f99-680f-4090-a97c-8bb54c0a72ca",
   "metadata": {},
   "outputs": [],
   "source": [
    "minha_lista = ['Vinicius', 28, 'Analista de Dados', 1.85] #É ordenada, aceita valores repetidos e aceita Alteração dos valores"
   ]
  },
  {
   "cell_type": "code",
   "execution_count": 11,
   "id": "513ae032-1ade-41a3-85f0-21879e0999c0",
   "metadata": {},
   "outputs": [
    {
     "data": {
      "text/plain": [
       "4"
      ]
     },
     "execution_count": 11,
     "metadata": {},
     "output_type": "execute_result"
    }
   ],
   "source": [
    "len(minha_lista)"
   ]
  },
  {
   "cell_type": "code",
   "execution_count": 13,
   "id": "b1eff262-099f-49ac-964c-c7d09dcb9b90",
   "metadata": {},
   "outputs": [
    {
     "name": "stdout",
     "output_type": "stream",
     "text": [
      "['Vinicius', 28, 'Analista de Dados', 1.85]\n",
      "Vinicius\n",
      "28\n"
     ]
    }
   ],
   "source": [
    "print(minha_lista)\n",
    "print(minha_lista[0])\n",
    "print(minha_lista[1])"
   ]
  },
  {
   "cell_type": "code",
   "execution_count": 15,
   "id": "b8297bae-5197-4fba-a610-9222fd7ca5a3",
   "metadata": {},
   "outputs": [],
   "source": [
    "minha_lista.append('Corinthians') #Acrescentar no Final da Lista"
   ]
  },
  {
   "cell_type": "code",
   "execution_count": 16,
   "id": "3e93aff5-7a3a-400d-8a41-6b8efa4c1945",
   "metadata": {},
   "outputs": [
    {
     "data": {
      "text/plain": [
       "['Vinicius', 28, 'Analista de Dados', 1.85, 'Corinthians', 'Corinthians']"
      ]
     },
     "execution_count": 16,
     "metadata": {},
     "output_type": "execute_result"
    }
   ],
   "source": [
    "minha_lista"
   ]
  },
  {
   "cell_type": "code",
   "execution_count": 19,
   "id": "cd1caa66-57d8-4402-a73b-457ff9d0777e",
   "metadata": {},
   "outputs": [],
   "source": [
    "minha_lista.remove('Corinthians') #Remover item por nome"
   ]
  },
  {
   "cell_type": "code",
   "execution_count": 20,
   "id": "65ac9020-4426-48fe-bca8-9b45bf014b98",
   "metadata": {},
   "outputs": [
    {
     "data": {
      "text/plain": [
       "['Vinicius', 28, 'Analista de Dados', 1.85]"
      ]
     },
     "execution_count": 20,
     "metadata": {},
     "output_type": "execute_result"
    }
   ],
   "source": [
    "minha_lista"
   ]
  },
  {
   "cell_type": "code",
   "execution_count": 21,
   "id": "46f857a5-6a37-4792-b103-c8def984a64a",
   "metadata": {},
   "outputs": [
    {
     "data": {
      "text/plain": [
       "'Vinicius'"
      ]
     },
     "execution_count": 21,
     "metadata": {},
     "output_type": "execute_result"
    }
   ],
   "source": [
    "minha_lista.pop(0) #Remover por indice/index"
   ]
  },
  {
   "cell_type": "code",
   "execution_count": 22,
   "id": "649e2d8f-c785-45da-98c6-1e00519a49a7",
   "metadata": {},
   "outputs": [
    {
     "data": {
      "text/plain": [
       "[28, 'Analista de Dados', 1.85]"
      ]
     },
     "execution_count": 22,
     "metadata": {},
     "output_type": "execute_result"
    }
   ],
   "source": [
    "minha_lista"
   ]
  },
  {
   "cell_type": "code",
   "execution_count": 23,
   "id": "ddb1a5bd-ad95-47a3-b9a5-416aab5c4c3c",
   "metadata": {},
   "outputs": [],
   "source": [
    "minha_lista.insert(0,'Vinicius') #Inserir em qualquer lugar da lista (por Index)"
   ]
  },
  {
   "cell_type": "code",
   "execution_count": 36,
   "id": "dfbd3388-fa16-4ac2-936d-9e3127e1cee3",
   "metadata": {},
   "outputs": [
    {
     "data": {
      "text/plain": [
       "[28, 'Analista de Dados', 1.85]"
      ]
     },
     "execution_count": 36,
     "metadata": {},
     "output_type": "execute_result"
    }
   ],
   "source": [
    "minha_lista"
   ]
  },
  {
   "cell_type": "code",
   "execution_count": 25,
   "id": "f00731ec-ac2b-4639-94cb-36f0e38c53f6",
   "metadata": {},
   "outputs": [
    {
     "name": "stdout",
     "output_type": "stream",
     "text": [
      "Vinicius\n",
      "[28, 'Analista de Dados', 1.85]\n"
     ]
    }
   ],
   "source": [
    "nome = minha_lista.pop(0)\n",
    "print(nome)\n",
    "print(minha_lista)"
   ]
  },
  {
   "cell_type": "code",
   "execution_count": 37,
   "id": "889715e9-41f7-4af9-b934-8b75e86e5741",
   "metadata": {},
   "outputs": [
    {
     "name": "stdout",
     "output_type": "stream",
     "text": [
      "28\n",
      "28\n"
     ]
    }
   ],
   "source": [
    "print(minha_lista[0])\n",
    "print(minha_lista[-3])"
   ]
  },
  {
   "cell_type": "markdown",
   "id": "cfe2fbc2-7a6f-476e-b1a1-406db1d1db1c",
   "metadata": {},
   "source": [
    "### Tupla"
   ]
  },
  {
   "cell_type": "code",
   "execution_count": 28,
   "id": "12e2be31-bfee-4bd0-a209-02bd9a6e522e",
   "metadata": {},
   "outputs": [],
   "source": [
    "minha_tupla = ('Vinicius', 28, 'Analista de Dados', 1.85) #É ordenada, aceita valores repetidos e NÃO aceita Alteração dos valores"
   ]
  },
  {
   "cell_type": "code",
   "execution_count": 30,
   "id": "62afc485-23bd-4901-9fbe-a7a0319f6a13",
   "metadata": {},
   "outputs": [
    {
     "name": "stdout",
     "output_type": "stream",
     "text": [
      "('Vinicius', 28, 'Analista de Dados', 1.85)\n",
      "<class 'tuple'>\n"
     ]
    }
   ],
   "source": [
    "print(minha_tupla)\n",
    "print(type(minha_tupla))"
   ]
  },
  {
   "cell_type": "code",
   "execution_count": 32,
   "id": "b4fea76c-719c-4b24-9a41-7a9ea30a8661",
   "metadata": {},
   "outputs": [
    {
     "name": "stdout",
     "output_type": "stream",
     "text": [
      "Vinicius\n",
      "Analista de Dados\n"
     ]
    }
   ],
   "source": [
    "print(minha_tupla[0])\n",
    "print(minha_tupla[2])"
   ]
  },
  {
   "cell_type": "code",
   "execution_count": 33,
   "id": "2ffe7317-787f-41f9-98b8-f32a06255db2",
   "metadata": {},
   "outputs": [
    {
     "name": "stdout",
     "output_type": "stream",
     "text": [
      "1\n",
      "0\n"
     ]
    }
   ],
   "source": [
    "print(minha_tupla.count('Vinicius'))\n",
    "print(minha_tupla.index(\"Vinicius\"))"
   ]
  },
  {
   "cell_type": "markdown",
   "id": "f81526dc-18f4-42be-9254-ac6b14042eeb",
   "metadata": {},
   "source": [
    "### Sets"
   ]
  },
  {
   "cell_type": "code",
   "execution_count": 38,
   "id": "86139f4a-ad0f-4201-abc6-ddd81cb4b4f9",
   "metadata": {},
   "outputs": [],
   "source": [
    "meu_set = set(['Vinicius', 28, 'Analista de Dados', 1.85, 'Vinicius', 28]) #Não Aceita Valores repetidos na saida, Não é Ordenado, não aceita Append"
   ]
  },
  {
   "cell_type": "code",
   "execution_count": 39,
   "id": "e445f24a-325a-41f9-b2d5-56d5d090f1cd",
   "metadata": {},
   "outputs": [
    {
     "data": {
      "text/plain": [
       "{1.85, 28, 'Analista de Dados', 'Vinicius'}"
      ]
     },
     "execution_count": 39,
     "metadata": {},
     "output_type": "execute_result"
    }
   ],
   "source": [
    "meu_set"
   ]
  }
 ],
 "metadata": {
  "kernelspec": {
   "display_name": "Python 3 (ipykernel)",
   "language": "python",
   "name": "python3"
  },
  "language_info": {
   "codemirror_mode": {
    "name": "ipython",
    "version": 3
   },
   "file_extension": ".py",
   "mimetype": "text/x-python",
   "name": "python",
   "nbconvert_exporter": "python",
   "pygments_lexer": "ipython3",
   "version": "3.12.7"
  }
 },
 "nbformat": 4,
 "nbformat_minor": 5
}
