{
 "cells": [
  {
   "cell_type": "code",
   "execution_count": 9,
   "id": "d466e026-2735-4cd9-92d0-dd9c38cd512e",
   "metadata": {},
   "outputs": [],
   "source": [
    "lista = [1,2,3,4,5]\n",
    "lista2 = [1,2,3]"
   ]
  },
  {
   "cell_type": "code",
   "execution_count": 3,
   "id": "692d9031-c503-46df-8a77-285ff8027e12",
   "metadata": {},
   "outputs": [
    {
     "data": {
      "text/plain": [
       "[1, 2, 3, 4, 5]"
      ]
     },
     "execution_count": 3,
     "metadata": {},
     "output_type": "execute_result"
    }
   ],
   "source": [
    "lista"
   ]
  },
  {
   "cell_type": "code",
   "execution_count": 4,
   "id": "468a1569-40b6-4696-9490-9aba021ecf6b",
   "metadata": {},
   "outputs": [
    {
     "name": "stdout",
     "output_type": "stream",
     "text": [
      "1\n",
      "2\n",
      "3\n",
      "4\n",
      "5\n"
     ]
    }
   ],
   "source": [
    "for num in lista:\n",
    "    print(num)"
   ]
  },
  {
   "cell_type": "code",
   "execution_count": 7,
   "id": "e5c4953f-ef88-426d-a30e-1f7f4b972ff0",
   "metadata": {},
   "outputs": [
    {
     "name": "stdout",
     "output_type": "stream",
     "text": [
      "[2, 4, 6, 8, 10]\n"
     ]
    }
   ],
   "source": [
    "lista_dobro = []\n",
    "\n",
    "for num in lista:\n",
    "    lista_dobro.append(num * 2)\n",
    "\n",
    "print(lista_dobro)"
   ]
  },
  {
   "cell_type": "code",
   "execution_count": 8,
   "id": "f64d42e5-9bad-43e7-b482-b8d77e7a8359",
   "metadata": {},
   "outputs": [
    {
     "name": "stdout",
     "output_type": "stream",
     "text": [
      "[2, 4, 6, 8, 10]\n"
     ]
    }
   ],
   "source": [
    "lista_dobro2 = [i * 2 for i in lista]\n",
    "print(lista_dobro2)"
   ]
  },
  {
   "cell_type": "code",
   "execution_count": 10,
   "id": "d81da9a0-4761-48ac-b9ca-13a37cb66a60",
   "metadata": {},
   "outputs": [
    {
     "name": "stdout",
     "output_type": "stream",
     "text": [
      "[[1, 2, 3, 1, 2, 3], [1, 2, 3, 1, 2, 3], [1, 2, 3, 1, 2, 3]]\n"
     ]
    }
   ],
   "source": [
    "lista_dobrada = []\n",
    "\n",
    "for num in lista2:\n",
    "    lista_dobrada.append(lista2 * 2)\n",
    "\n",
    "print(lista_dobrada)"
   ]
  },
  {
   "cell_type": "code",
   "execution_count": 12,
   "id": "e64a1fa2-1627-48bd-9c6a-2266841c72e8",
   "metadata": {},
   "outputs": [
    {
     "name": "stdout",
     "output_type": "stream",
     "text": [
      "[2, 4]\n"
     ]
    }
   ],
   "source": [
    "lista_par =  [i for i in lista if i % 2 == 0]\n",
    "print(lista_par)"
   ]
  },
  {
   "cell_type": "code",
   "execution_count": null,
   "id": "f84a187f-413c-4c93-b70c-862b54c9c5c6",
   "metadata": {},
   "outputs": [],
   "source": []
  }
 ],
 "metadata": {
  "kernelspec": {
   "display_name": "Python 3 (ipykernel)",
   "language": "python",
   "name": "python3"
  },
  "language_info": {
   "codemirror_mode": {
    "name": "ipython",
    "version": 3
   },
   "file_extension": ".py",
   "mimetype": "text/x-python",
   "name": "python",
   "nbconvert_exporter": "python",
   "pygments_lexer": "ipython3",
   "version": "3.12.7"
  }
 },
 "nbformat": 4,
 "nbformat_minor": 5
}
