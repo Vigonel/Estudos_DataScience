{
 "cells": [
  {
   "cell_type": "code",
   "execution_count": 23,
   "id": "c0a1b5d7-ec4a-42e2-a309-5286a04a282a",
   "metadata": {},
   "outputs": [],
   "source": [
    "nome = 'Vinicius'\n",
    "nome2 = 'Vinicius'\n",
    "idade = 28\n",
    "b = 1.547\n",
    "profissao = 'analista de crédito'"
   ]
  },
  {
   "cell_type": "code",
   "execution_count": 17,
   "id": "4fd8c8f5-5f6a-43b8-83f8-7b61c9bf1d41",
   "metadata": {},
   "outputs": [
    {
     "name": "stdout",
     "output_type": "stream",
     "text": [
      "vinicius\n",
      "vinicius\n",
      "28\n",
      "1.547\n"
     ]
    }
   ],
   "source": [
    "print(nome)\n",
    "print(nome2)\n",
    "print(a)\n",
    "print(b)"
   ]
  },
  {
   "cell_type": "code",
   "execution_count": 13,
   "id": "d32f37dc-e7ef-4e7f-ba09-1fd6cfb91a35",
   "metadata": {},
   "outputs": [
    {
     "name": "stdout",
     "output_type": "stream",
     "text": [
      "<class 'str'>\n",
      "<class 'str'>\n",
      "<class 'int'>\n",
      "<class 'float'>\n"
     ]
    }
   ],
   "source": [
    "print(type(nome))\n",
    "print(type(nome2))\n",
    "print(type(a))\n",
    "print(type(b))"
   ]
  },
  {
   "cell_type": "code",
   "execution_count": 18,
   "id": "5b1ceabc-708b-4d41-acd4-139946c53f48",
   "metadata": {},
   "outputs": [
    {
     "name": "stdout",
     "output_type": "stream",
     "text": [
      "29.547\n"
     ]
    }
   ],
   "source": [
    "print(idade+b)"
   ]
  },
  {
   "cell_type": "code",
   "execution_count": 25,
   "id": "a2c3e459-0ffe-4dba-a452-e9bfacfa17c6",
   "metadata": {},
   "outputs": [
    {
     "name": "stdout",
     "output_type": "stream",
     "text": [
      "Vinicius analista de crédito\n",
      "Vinicius é um analista de crédito\n"
     ]
    }
   ],
   "source": [
    "print( nome + ' ' + profissao)\n",
    "print( nome + ' é um ' + profissao)"
   ]
  },
  {
   "cell_type": "code",
   "execution_count": 32,
   "id": "ba5970a6-f205-482b-9c97-f8300902867f",
   "metadata": {},
   "outputs": [
    {
     "name": "stdout",
     "output_type": "stream",
     "text": [
      "Vinicius tem 28 anos.\n",
      "Vinicius tem 28 anos.\n",
      "Vinicius tem 28 anos.\n"
     ]
    }
   ],
   "source": [
    "print( nome + ' tem ' + str(idade) + ' anos.')\n",
    "print('{} tem {} anos.'.format(nome,str(idade)))\n",
    "print(f'{nome} tem {idade} anos.')"
   ]
  }
 ],
 "metadata": {
  "kernelspec": {
   "display_name": "Python 3 (ipykernel)",
   "language": "python",
   "name": "python3"
  },
  "language_info": {
   "codemirror_mode": {
    "name": "ipython",
    "version": 3
   },
   "file_extension": ".py",
   "mimetype": "text/x-python",
   "name": "python",
   "nbconvert_exporter": "python",
   "pygments_lexer": "ipython3",
   "version": "3.12.7"
  }
 },
 "nbformat": 4,
 "nbformat_minor": 5
}
