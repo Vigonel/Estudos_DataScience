{
 "cells": [
  {
   "cell_type": "code",
   "execution_count": 1,
   "id": "038f598f-b60d-42be-bf59-4a6914108bbe",
   "metadata": {},
   "outputs": [],
   "source": [
    "pessoa ={\n",
    "    'nome':'Vinicius',\n",
    "    'idade':28,\n",
    "    'profissão':'Analista de Dados',\n",
    "    'time':'Corinthians',\n",
    "    'cor':'Verde'\n",
    "}"
   ]
  },
  {
   "cell_type": "code",
   "execution_count": 2,
   "id": "0994da12-cdd1-4a37-93d9-59c6ebd0dec3",
   "metadata": {},
   "outputs": [
    {
     "data": {
      "text/plain": [
       "{'nome': 'Vinicius',\n",
       " 'idade': 28,\n",
       " 'profissão': 'Analista de Dados',\n",
       " 'time': 'Corinthians',\n",
       " 'cor': 'Verde'}"
      ]
     },
     "execution_count": 2,
     "metadata": {},
     "output_type": "execute_result"
    }
   ],
   "source": [
    "pessoa"
   ]
  },
  {
   "cell_type": "code",
   "execution_count": 4,
   "id": "2fc07dc3-24f4-4c22-bf50-c8f43f9bb429",
   "metadata": {},
   "outputs": [
    {
     "data": {
      "text/plain": [
       "'Vinicius'"
      ]
     },
     "execution_count": 4,
     "metadata": {},
     "output_type": "execute_result"
    }
   ],
   "source": [
    "pessoa['nome']"
   ]
  },
  {
   "cell_type": "code",
   "execution_count": 6,
   "id": "b6a030c0-9528-4872-af2c-e8a79b366ce3",
   "metadata": {},
   "outputs": [
    {
     "data": {
      "text/plain": [
       "dict_keys(['nome', 'idade', 'profissão', 'time', 'cor'])"
      ]
     },
     "execution_count": 6,
     "metadata": {},
     "output_type": "execute_result"
    }
   ],
   "source": [
    "pessoa.keys() #Tras as Chaves"
   ]
  },
  {
   "cell_type": "code",
   "execution_count": 7,
   "id": "ede22104-31ca-4599-91df-4ff1de08e93c",
   "metadata": {},
   "outputs": [
    {
     "data": {
      "text/plain": [
       "dict_values(['Vinicius', 28, 'Analista de Dados', 'Corinthians', 'Verde'])"
      ]
     },
     "execution_count": 7,
     "metadata": {},
     "output_type": "execute_result"
    }
   ],
   "source": [
    "pessoa.values() #Tras os Valores"
   ]
  },
  {
   "cell_type": "code",
   "execution_count": 8,
   "id": "25a13416-478f-4486-ad47-4740d8d335bd",
   "metadata": {},
   "outputs": [
    {
     "data": {
      "text/plain": [
       "dict_items([('nome', 'Vinicius'), ('idade', 28), ('profissão', 'Analista de Dados'), ('time', 'Corinthians'), ('cor', 'Verde')])"
      ]
     },
     "execution_count": 8,
     "metadata": {},
     "output_type": "execute_result"
    }
   ],
   "source": [
    "pessoa.items() #Tras (Chave,Valor)"
   ]
  },
  {
   "cell_type": "code",
   "execution_count": 9,
   "id": "7a4c0711-d8b4-45b3-b340-599a9ace361b",
   "metadata": {},
   "outputs": [
    {
     "data": {
      "text/plain": [
       "{'nome': 'Vinicius',\n",
       " 'idade': 28,\n",
       " 'profissão': 'Analista de Dados',\n",
       " 'time': 'Corinthians',\n",
       " 'cor': 'Verde'}"
      ]
     },
     "execution_count": 9,
     "metadata": {},
     "output_type": "execute_result"
    }
   ],
   "source": [
    "pessoa #Tras o dicionário Completo"
   ]
  },
  {
   "cell_type": "code",
   "execution_count": null,
   "id": "820c1173-588d-4280-9b1f-9efe2c4c4a43",
   "metadata": {},
   "outputs": [],
   "source": []
  }
 ],
 "metadata": {
  "kernelspec": {
   "display_name": "Python 3 (ipykernel)",
   "language": "python",
   "name": "python3"
  },
  "language_info": {
   "codemirror_mode": {
    "name": "ipython",
    "version": 3
   },
   "file_extension": ".py",
   "mimetype": "text/x-python",
   "name": "python",
   "nbconvert_exporter": "python",
   "pygments_lexer": "ipython3",
   "version": "3.12.7"
  }
 },
 "nbformat": 4,
 "nbformat_minor": 5
}
