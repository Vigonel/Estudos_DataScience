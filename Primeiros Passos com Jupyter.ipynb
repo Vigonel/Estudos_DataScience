{
 "cells": [
  {
   "cell_type": "code",
   "execution_count": null,
   "id": "d21d583f-0653-4514-9056-6cd7f36c41d9",
   "metadata": {},
   "outputs": [],
   "source": [
    "print('Hello_World')"
   ]
  },
  {
   "cell_type": "code",
   "execution_count": null,
   "id": "0a84d03f-ef64-44da-8148-91ff1f7aec86",
   "metadata": {},
   "outputs": [],
   "source": [
    "print('Eu Amo o Ricardo S2')"
   ]
  },
  {
   "cell_type": "code",
   "execution_count": null,
   "id": "edacf31e-9dad-49d6-a62d-6fb707e940e3",
   "metadata": {},
   "outputs": [],
   "source": []
  }
 ],
 "metadata": {
  "kernelspec": {
   "display_name": "Python 3 (ipykernel)",
   "language": "python",
   "name": "python3"
  },
  "language_info": {
   "codemirror_mode": {
    "name": "ipython",
    "version": 3
   },
   "file_extension": ".py",
   "mimetype": "text/x-python",
   "name": "python",
   "nbconvert_exporter": "python",
   "pygments_lexer": "ipython3",
   "version": "3.12.7"
  }
 },
 "nbformat": 4,
 "nbformat_minor": 5
}
