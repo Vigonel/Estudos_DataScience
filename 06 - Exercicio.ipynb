{
 "cells": [
  {
   "cell_type": "code",
   "execution_count": null,
   "id": "1e350b21-2fc0-444d-9e99-27988c4df7aa",
   "metadata": {},
   "outputs": [],
   "source": [
    "#Dados 3 números, descubra o maior deles.\n",
    "#Há varias formas de resolver o problema"
   ]
  },
  {
   "cell_type": "code",
   "execution_count": 23,
   "id": "64786743-4929-429b-8e74-9332dd378585",
   "metadata": {},
   "outputs": [],
   "source": [
    "def maiorNum(a,b):\n",
    "    if a > b:\n",
    "        return a\n",
    "    elif b > a:\n",
    "        return b\n",
    "    else:\n",
    "        return a\n",
    "def maiorTres(a,b,c):\n",
    "    maior = maiorNum(a,b)\n",
    "    if maior > c:\n",
    "        return maior\n",
    "    elif c > maior:\n",
    "        return c\n",
    "    else:\n",
    "        return c"
   ]
  },
  {
   "cell_type": "code",
   "execution_count": 30,
   "id": "98ad5302-3c59-4528-ad75-f65ebaf814ef",
   "metadata": {},
   "outputs": [
    {
     "data": {
      "text/plain": [
       "7"
      ]
     },
     "execution_count": 30,
     "metadata": {},
     "output_type": "execute_result"
    }
   ],
   "source": [
    "maiorTres(7,7,7)"
   ]
  },
  {
   "cell_type": "code",
   "execution_count": null,
   "id": "7235e076-f663-4108-bbc0-059a5b1c423b",
   "metadata": {},
   "outputs": [],
   "source": []
  },
  {
   "cell_type": "code",
   "execution_count": null,
   "id": "c1f2dcaa-e337-4710-b190-25d8791cc8e4",
   "metadata": {},
   "outputs": [],
   "source": []
  }
 ],
 "metadata": {
  "kernelspec": {
   "display_name": "Python 3 (ipykernel)",
   "language": "python",
   "name": "python3"
  },
  "language_info": {
   "codemirror_mode": {
    "name": "ipython",
    "version": 3
   },
   "file_extension": ".py",
   "mimetype": "text/x-python",
   "name": "python",
   "nbconvert_exporter": "python",
   "pygments_lexer": "ipython3",
   "version": "3.12.7"
  }
 },
 "nbformat": 4,
 "nbformat_minor": 5
}
